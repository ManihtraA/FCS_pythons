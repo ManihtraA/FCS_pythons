{
 "cells": [
  {
   "cell_type": "markdown",
   "metadata": {},
   "source": [
    "# Tic Tac Toe Game"
   ]
  },
  {
   "cell_type": "markdown",
   "metadata": {},
   "source": [
    " Setup Board"
   ]
  },
  {
   "cell_type": "code",
   "execution_count": 1,
   "metadata": {},
   "outputs": [],
   "source": [
    "from IPython.display import clear_output\n",
    "\n",
    "def displayBoard(boardVal):\n",
    "    clear_output()\n",
    "    print('-------------')\n",
    "    print('| '+boardVal[7]+' | '+boardVal[8]+' | '+boardVal[9]+' |')\n",
    "    print('-------------')\n",
    "    print('| '+boardVal[4]+' | '+boardVal[5]+' | '+boardVal[6]+' |')\n",
    "    print('-------------')\n",
    "    print('| '+boardVal[1]+' | '+boardVal[2]+' | '+boardVal[3]+' |')\n",
    "    print('-------------')"
   ]
  },
  {
   "cell_type": "code",
   "execution_count": 2,
   "metadata": {},
   "outputs": [],
   "source": [
    "boardVal = ['X',' ',' ',' ',' ',' ',' ',' ',' ',' ']"
   ]
  },
  {
   "cell_type": "markdown",
   "metadata": {},
   "source": [
    "# Assign Marker to player input"
   ]
  },
  {
   "cell_type": "code",
   "execution_count": 2,
   "metadata": {},
   "outputs": [],
   "source": [
    "def getInput():\n",
    "    marker = ' '\n",
    "    while not( marker == 'X' or marker == 'O'):\n",
    "        marker = input('Player One: Please Enter marker x or o:').upper()\n",
    "    if(marker == 'X'):\n",
    "        return ('X','O')\n",
    "    else:\n",
    "        return ('O','X')"
   ]
  },
  {
   "cell_type": "code",
   "execution_count": 4,
   "metadata": {},
   "outputs": [
    {
     "name": "stdout",
     "output_type": "stream",
     "text": [
      "Player One: Please Enter marker x or o:x\n"
     ]
    },
    {
     "data": {
      "text/plain": [
       "('X', 'O')"
      ]
     },
     "execution_count": 4,
     "metadata": {},
     "output_type": "execute_result"
    }
   ],
   "source": [
    "getInput()"
   ]
  },
  {
   "cell_type": "markdown",
   "metadata": {},
   "source": [
    "# placing a marker"
   ]
  },
  {
   "cell_type": "code",
   "execution_count": 3,
   "metadata": {},
   "outputs": [],
   "source": [
    "def placeMarker(boardVal,marker,position):\n",
    "    boardVal[position] = marker"
   ]
  },
  {
   "cell_type": "code",
   "execution_count": 6,
   "metadata": {},
   "outputs": [
    {
     "data": {
      "text/plain": [
       "['X', ' ', ' ', ' ', ' ', ' ', ' ', ' ', ' ', ' ']"
      ]
     },
     "execution_count": 6,
     "metadata": {},
     "output_type": "execute_result"
    }
   ],
   "source": [
    "boardVal"
   ]
  },
  {
   "cell_type": "code",
   "execution_count": 7,
   "metadata": {},
   "outputs": [],
   "source": [
    "placeMarker(boardVal,'X',2)"
   ]
  },
  {
   "cell_type": "markdown",
   "metadata": {},
   "source": [
    "# Check any winner"
   ]
  },
  {
   "cell_type": "code",
   "execution_count": 4,
   "metadata": {},
   "outputs": [],
   "source": [
    "def winCheck(boardVal,marker):\n",
    "    win = ((boardVal[1] == marker and boardVal[2]  == marker and boardVal[3] == marker ) or\n",
    "          (boardVal[4] == marker  and boardVal[5] == marker  and boardVal[4] == marker ) or\n",
    "          (boardVal[7] == marker  and boardVal[8] == marker  and boardVal[9] == marker ) or\n",
    "          (boardVal[1] == marker  and boardVal[4] == marker  and boardVal[7] == marker )or \n",
    "          (boardVal[2] == marker  and boardVal[5] == marker  and boardVal[8] == marker )or\n",
    "          (boardVal[3] == marker  and boardVal[6] == marker  and boardVal[9] == marker )or\n",
    "          (boardVal[1] == marker  and boardVal[5] == marker  and boardVal[9] == marker )or\n",
    "          (boardVal[3] == marker  and boardVal[5] == marker  and boardVal[7] == marker ))\n",
    "    return win"
   ]
  },
  {
   "cell_type": "code",
   "execution_count": 9,
   "metadata": {},
   "outputs": [
    {
     "data": {
      "text/plain": [
       "False"
      ]
     },
     "execution_count": 9,
     "metadata": {},
     "output_type": "execute_result"
    }
   ],
   "source": [
    "winCheck(boardVal,'O')"
   ]
  },
  {
   "cell_type": "code",
   "execution_count": 10,
   "metadata": {},
   "outputs": [
    {
     "name": "stdout",
     "output_type": "stream",
     "text": [
      "-------------\n",
      "|   |   |   |\n",
      "-------------\n",
      "|   |   |   |\n",
      "-------------\n",
      "|   | X |   |\n",
      "-------------\n"
     ]
    }
   ],
   "source": [
    "displayBoard(boardVal)"
   ]
  },
  {
   "cell_type": "markdown",
   "metadata": {},
   "source": [
    "# Randomly selecting a player"
   ]
  },
  {
   "cell_type": "code",
   "execution_count": 5,
   "metadata": {},
   "outputs": [],
   "source": [
    "import random\n",
    "\n",
    "def chooseFirst():\n",
    "    return 'Player 2' if random.randint(1,2) == 2 else 'Player 1'"
   ]
  },
  {
   "cell_type": "code",
   "execution_count": 12,
   "metadata": {},
   "outputs": [
    {
     "data": {
      "text/plain": [
       "'Player 1'"
      ]
     },
     "execution_count": 12,
     "metadata": {},
     "output_type": "execute_result"
    }
   ],
   "source": [
    "chooseFirst()"
   ]
  },
  {
   "cell_type": "markdown",
   "metadata": {},
   "source": [
    "# Check position is empty or not"
   ]
  },
  {
   "cell_type": "code",
   "execution_count": 6,
   "metadata": {},
   "outputs": [],
   "source": [
    "def checkPos(boardVal,pos):\n",
    "    return boardVal[pos] == ' '"
   ]
  },
  {
   "cell_type": "code",
   "execution_count": 14,
   "metadata": {},
   "outputs": [
    {
     "data": {
      "text/plain": [
       "True"
      ]
     },
     "execution_count": 14,
     "metadata": {},
     "output_type": "execute_result"
    }
   ],
   "source": [
    "checkPos(boardVal,5)"
   ]
  },
  {
   "cell_type": "markdown",
   "metadata": {},
   "source": [
    "# Check the Board full or not"
   ]
  },
  {
   "cell_type": "code",
   "execution_count": 7,
   "metadata": {},
   "outputs": [],
   "source": [
    "def checkFul(boardVal):\n",
    "    for i in range(1,10):\n",
    "        if checkPos(boardVal,i):\n",
    "            return False\n",
    "    return True"
   ]
  },
  {
   "cell_type": "code",
   "execution_count": null,
   "metadata": {},
   "outputs": [
    {
     "data": {
      "text/plain": [
       "False"
      ]
     },
     "execution_count": 16,
     "metadata": {},
     "output_type": "execute_result"
    }
   ],
   "source": [
    "checkFul(boardVal)"
   ]
  },
  {
   "cell_type": "markdown",
   "metadata": {},
   "source": [
    "# Tel Player next pos"
   ]
  },
  {
   "cell_type": "code",
   "execution_count": 8,
   "metadata": {},
   "outputs": [],
   "source": [
    "def nextPlaPos(boardVal):\n",
    "    position = 0\n",
    "    while position not in [1,2,3,4,5,6,7,8,9] or not checkPos(boardVal,position):\n",
    "        position = int(input(\"Enter the position ( 1 to 9) : \"))\n",
    "    return position"
   ]
  },
  {
   "cell_type": "code",
   "execution_count": null,
   "metadata": {},
   "outputs": [
    {
     "name": "stdout",
     "output_type": "stream",
     "text": [
      "Enter the position ( 1 to 9) : 5\n"
     ]
    },
    {
     "data": {
      "text/plain": [
       "5"
      ]
     },
     "execution_count": 18,
     "metadata": {},
     "output_type": "execute_result"
    }
   ],
   "source": [
    "nextPlaPos(boardVal)"
   ]
  },
  {
   "cell_type": "markdown",
   "metadata": {},
   "source": [
    "# Play Again or Not"
   ]
  },
  {
   "cell_type": "code",
   "execution_count": 9,
   "metadata": {},
   "outputs": [],
   "source": [
    "def playAgain():\n",
    "    return input(\"Do you want to play again (yes or no) : \").lower().startswith('y')"
   ]
  },
  {
   "cell_type": "code",
   "execution_count": null,
   "metadata": {},
   "outputs": [
    {
     "name": "stdout",
     "output_type": "stream",
     "text": [
      "Do you want to play again (yes or no) : y\n"
     ]
    },
    {
     "data": {
      "text/plain": [
       "True"
      ]
     },
     "execution_count": 20,
     "metadata": {},
     "output_type": "execute_result"
    }
   ],
   "source": [
    "playAgain()"
   ]
  },
  {
   "cell_type": "markdown",
   "metadata": {},
   "source": [
    "# Final integration"
   ]
  },
  {
   "cell_type": "code",
   "execution_count": null,
   "metadata": {},
   "outputs": [
    {
     "name": "stdout",
     "output_type": "stream",
     "text": [
      "Welcome to our Game\n",
      "Player One: Please Enter marker x or o:x\n",
      "Player 2 will go first in this game\n",
      "Are You ready? Yes or No x\n"
     ]
    }
   ],
   "source": [
    "print(\"Welcome to our Game\")\n",
    "\n",
    "while True:\n",
    "    newBoard = [' '] * 10\n",
    "    player1,player2 = getInput()\n",
    "    turn = chooseFirst()\n",
    "    print( turn + \" will go first in this game\")\n",
    "    playGame = input(\"Are You ready? Yes or No \")\n",
    "    if playGame.lower().startswith(\"y\"):\n",
    "        gameOn = True\n",
    "    else:\n",
    "        gameOn = False\n",
    "    while gameOn: \n",
    "        if turn == 'Player 1':\n",
    "            displayBoard(newBoard)\n",
    "            position = nextPlaPos(newBoard)\n",
    "            placeMarker(newBoard,player1, position)\n",
    "            \n",
    "            if winCheck(newBoard,player1):\n",
    "                displayBoard(newBoard)\n",
    "                print('Congrats! Player 1 have  Won the Game!')\n",
    "                gameOn=False\n",
    "            else:\n",
    "                if checkFul(newBoard):\n",
    "                    displayBoard(newBoard)\n",
    "                    print('Game has been drawn')\n",
    "                    break\n",
    "                else:\n",
    "                    turn = 'Player 2'\n",
    "        else:\n",
    "            displayBoard(newBoard)\n",
    "            position = nextPlaPos(newBoard)\n",
    "            placeMarker(newBoard,player2, position)\n",
    "            \n",
    "            if winCheck(newBoard,player2):\n",
    "                displayBoard(newBoard)\n",
    "                print('Congrats! player 2 have  Won the Game!')\n",
    "                gameOn=False\n",
    "            else:\n",
    "                if checkFul(newBoard):\n",
    "                    displayBoard(newBoard)\n",
    "                    print('Game has been drawn')\n",
    "                    break\n",
    "                else:\n",
    "                    turn = 'Player 1'\n",
    "                    \n",
    "    if not playAgain():\n",
    "        break"
   ]
  },
  {
   "cell_type": "code",
   "execution_count": null,
   "metadata": {},
   "outputs": [],
   "source": []
  },
  {
   "cell_type": "code",
   "execution_count": null,
   "metadata": {},
   "outputs": [],
   "source": []
  }
 ],
 "metadata": {
  "kernelspec": {
   "display_name": "Python 3",
   "language": "python",
   "name": "python3"
  },
  "language_info": {
   "codemirror_mode": {
    "name": "ipython",
    "version": 3
   },
   "file_extension": ".py",
   "mimetype": "text/x-python",
   "name": "python",
   "nbconvert_exporter": "python",
   "pygments_lexer": "ipython3",
   "version": "3.7.1"
  }
 },
 "nbformat": 4,
 "nbformat_minor": 2
}
